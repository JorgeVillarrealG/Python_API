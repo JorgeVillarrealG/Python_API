{
 "cells": [
  {
   "cell_type": "markdown",
   "metadata": {},
   "source": [
    "# WeatherPy\n",
    "----\n",
    "\n",
    "#### Note\n",
    "* Instructions have been included for each segment. You do not have to follow them exactly, but they are included to help you think through the steps."
   ]
  },
  {
   "cell_type": "code",
   "execution_count": 2,
   "metadata": {},
   "outputs": [
    {
     "name": "stdout",
     "output_type": "stream",
     "text": [
      "Collecting citipy\n",
      "  Downloading citipy-0.0.5.tar.gz (557 kB)\n",
      "Collecting kdtree>=0.12\n",
      "  Downloading kdtree-0.16-py2.py3-none-any.whl (7.7 kB)\n",
      "Building wheels for collected packages: citipy\n",
      "  Building wheel for citipy (setup.py): started\n",
      "  Building wheel for citipy (setup.py): finished with status 'done'\n",
      "  Created wheel for citipy: filename=citipy-0.0.5-py3-none-any.whl size=559707 sha256=2ae763bc02f1b0074774272692b97359175123bfac77cc4a339c2611849fcf28\n",
      "  Stored in directory: c:\\users\\jv91250\\appdata\\local\\pip\\cache\\wheels\\6d\\df\\5e\\ad8eb9cc5ee7f4ba76865167c09f9a7edff405c669111d8353\n",
      "Successfully built citipy\n",
      "Installing collected packages: kdtree, citipy\n",
      "Successfully installed citipy-0.0.5 kdtree-0.16\n"
     ]
    }
   ],
   "source": [
    "!pip install citipy"
   ]
  },
  {
   "cell_type": "code",
   "execution_count": 1,
   "metadata": {
    "scrolled": true
   },
   "outputs": [],
   "source": [
    "# Dependencies and Setup\n",
    "import matplotlib.pyplot as plt\n",
    "import pandas as pd\n",
    "import numpy as np\n",
    "import requests\n",
    "import time\n",
    "from scipy.stats import linregress\n",
    "\n",
    "# Import API key\n",
    "from api_keys import weather_api_key\n",
    "\n",
    "# Incorporated citipy to determine city based on latitude and longitude\n",
    "from citipy import citipy\n",
    "\n",
    "# Output File (CSV)\n",
    "output_data_file = \"../output_data/cities.csv\"\n",
    "\n",
    "# Range of latitudes and longitudes\n",
    "lat_range = (-90, 90)\n",
    "lng_range = (-180, 180)"
   ]
  },
  {
   "cell_type": "markdown",
   "metadata": {},
   "source": [
    "## Generate Cities List"
   ]
  },
  {
   "cell_type": "code",
   "execution_count": 2,
   "metadata": {},
   "outputs": [
    {
     "data": {
      "text/plain": [
       "600"
      ]
     },
     "execution_count": 2,
     "metadata": {},
     "output_type": "execute_result"
    }
   ],
   "source": [
    "# List for holding lat_lngs and cities\n",
    "lat_lngs = []\n",
    "cities = []\n",
    "\n",
    "# Create a set of random lat and lng combinations\n",
    "lats = np.random.uniform(low=-90.000, high=90.000, size=1500)\n",
    "lngs = np.random.uniform(low=-180.000, high=180.000, size=1500)\n",
    "lat_lngs = zip(lats, lngs)\n",
    "\n",
    "# Identify nearest city for each lat, lng combination\n",
    "for lat_lng in lat_lngs:\n",
    "    city = citipy.nearest_city(lat_lng[0], lat_lng[1]).city_name\n",
    "    \n",
    "    # If the city is unique, then add it to a our cities list\n",
    "    if city not in cities:\n",
    "        cities.append(city)\n",
    "\n",
    "# Print the city count to confirm sufficient count\n",
    "len(cities)"
   ]
  },
  {
   "cell_type": "code",
   "execution_count": 10,
   "metadata": {},
   "outputs": [
    {
     "data": {
      "text/plain": [
       "['esperance',\n",
       " 'stoyba',\n",
       " 'santa cruz',\n",
       " 'butaritari',\n",
       " 'ponta do sol',\n",
       " 'belmonte',\n",
       " 'onguday',\n",
       " 'henties bay',\n",
       " 'saskylakh',\n",
       " 'vung tau',\n",
       " 'ribeira grande',\n",
       " 'thinadhoo',\n",
       " 'wanning',\n",
       " 'thompson',\n",
       " 'reconquista',\n",
       " 'hilo',\n",
       " 'nikolskoye',\n",
       " 'busselton',\n",
       " 'asau',\n",
       " 'saint-francois',\n",
       " 'hobart',\n",
       " 'tura',\n",
       " 'avarua',\n",
       " 'puerto ayora',\n",
       " 'ulladulla',\n",
       " 'burica',\n",
       " 'fort saint john',\n",
       " 'noumea',\n",
       " 'bredasdorp',\n",
       " 'barentsburg',\n",
       " 'miram shah',\n",
       " 'rungata',\n",
       " 'atuona',\n",
       " 'verkhnevilyuysk',\n",
       " 'nuristan',\n",
       " 'rio gallegos',\n",
       " 'illoqqortoormiut',\n",
       " 'rikitea',\n",
       " 'tasiilaq',\n",
       " 'khatanga',\n",
       " 'bethel',\n",
       " 'kirs',\n",
       " 'norman wells',\n",
       " 'carnarvon',\n",
       " 'lasa',\n",
       " 'nguruka',\n",
       " 'mingshui',\n",
       " 'punta arenas',\n",
       " 'santa isabel do rio negro',\n",
       " 'itarema',\n",
       " 'kasongo',\n",
       " 'poum',\n",
       " 'belushya guba',\n",
       " 'mataura',\n",
       " 'mahebourg',\n",
       " 'rawson',\n",
       " 'vaini',\n",
       " 'cienfuegos',\n",
       " 'ushuaia',\n",
       " 'sharan',\n",
       " 'bargal',\n",
       " 'mitsamiouli',\n",
       " 'katsuura',\n",
       " 'najran',\n",
       " 'havoysund',\n",
       " 'kokopo',\n",
       " 'tocantinopolis',\n",
       " 'palmer',\n",
       " 'mys shmidta',\n",
       " 'iquique',\n",
       " 'bandarbeyla',\n",
       " 'kamenka',\n",
       " 'saint anthony',\n",
       " 'vao',\n",
       " 'port alfred',\n",
       " 'castro',\n",
       " 'isangel',\n",
       " 'east london',\n",
       " 'los llanos de aridane',\n",
       " 'new norfolk',\n",
       " 'touho',\n",
       " 'samusu',\n",
       " 'cape town',\n",
       " 'yellowknife',\n",
       " 'alice springs',\n",
       " 'olafsvik',\n",
       " 'lewistown',\n",
       " 'mareeba',\n",
       " 'barrow',\n",
       " 'chervona sloboda',\n",
       " 'karonga',\n",
       " 'fuerte olimpo',\n",
       " 'hofn',\n",
       " 'san luis',\n",
       " 'prado',\n",
       " 'misratah',\n",
       " 'bluff',\n",
       " 'egvekinot',\n",
       " 'kavieng',\n",
       " 'ahipara',\n",
       " 'novobirilyussy',\n",
       " 'manuk mangkaw',\n",
       " 'moyale',\n",
       " 'udachnyy',\n",
       " 'sioux lookout',\n",
       " 'vrangel',\n",
       " 'katakwi',\n",
       " 'kindersley',\n",
       " 'fortuna',\n",
       " 'saldanha',\n",
       " 'kapaa',\n",
       " 'srandakan',\n",
       " 'upernavik',\n",
       " 'alexandria',\n",
       " 'kholodnyy',\n",
       " 'saint-leu',\n",
       " 'palafrugell',\n",
       " 'pietarsaari',\n",
       " 'shimoda',\n",
       " 'saint-philippe',\n",
       " 'nguru',\n",
       " 'taolanaro',\n",
       " 'wulanhaote',\n",
       " 'santiago',\n",
       " 'oyama',\n",
       " 'port elizabeth',\n",
       " 'buala',\n",
       " 'port-de-bouc',\n",
       " 'kasongo-lunda',\n",
       " 'port-gentil',\n",
       " 'hithadhoo',\n",
       " 'severo-kurilsk',\n",
       " 'riyadh',\n",
       " 'hamilton',\n",
       " 'weinan',\n",
       " 'cherskiy',\n",
       " 'nichinan',\n",
       " 'dikson',\n",
       " 'grand river south east',\n",
       " 'gigmoto',\n",
       " 'warqla',\n",
       " 'santiago de cao',\n",
       " 'mar del plata',\n",
       " 'lazaro cardenas',\n",
       " 'dingle',\n",
       " 'skjervoy',\n",
       " 'sosnovo-ozerskoye',\n",
       " 'roald',\n",
       " 'banda aceh',\n",
       " 'nizhneyansk',\n",
       " 'skagastrond',\n",
       " 'qaqortoq',\n",
       " 'sherpur',\n",
       " 'kruisfontein',\n",
       " 'kodiak',\n",
       " 'albany',\n",
       " 'tsihombe',\n",
       " 'tabas',\n",
       " 'mitzic',\n",
       " 'bundaberg',\n",
       " 'thanh hoa',\n",
       " 'stornoway',\n",
       " 'moose factory',\n",
       " 'sisimiut',\n",
       " 'georgetown',\n",
       " 'grand gaube',\n",
       " 'klyuchi',\n",
       " 'wiarton',\n",
       " 'vossevangen',\n",
       " 'redmond',\n",
       " 'bengkulu',\n",
       " 'mount isa',\n",
       " 'jamestown',\n",
       " 'lompoc',\n",
       " 'padang',\n",
       " 'bur gabo',\n",
       " 'fort nelson',\n",
       " 'rocky mountain house',\n",
       " 'seoul',\n",
       " 'bongandanga',\n",
       " 'druzhba',\n",
       " 'karacabey',\n",
       " 'yerbogachen',\n",
       " 'longfeng',\n",
       " 'lakatoro',\n",
       " 'karaul',\n",
       " 'pierre',\n",
       " 'bambous virieux',\n",
       " 'mount gambier',\n",
       " 'attawapiskat',\n",
       " 'shubarkuduk',\n",
       " 'turkmenabat',\n",
       " 'lagoa',\n",
       " 'dhidhdhoo',\n",
       " 'tuktoyaktuk',\n",
       " 'hajipur',\n",
       " 'port hardy',\n",
       " 'guhagar',\n",
       " 'tautira',\n",
       " 'lebu',\n",
       " 'santa eulalia',\n",
       " 'aykhal',\n",
       " 'krasnoarmeysk',\n",
       " 'bilma',\n",
       " 'leshan',\n",
       " 'preobrazheniye',\n",
       " 'torrington',\n",
       " 'harper',\n",
       " 'sao filipe',\n",
       " 'baruun-urt',\n",
       " 'banikoara',\n",
       " 'yima',\n",
       " 'vestmannaeyjar',\n",
       " 'gulf gate estates',\n",
       " 'brahmapuri',\n",
       " 'alwar',\n",
       " 'port-cartier',\n",
       " 'lardos',\n",
       " 'qaanaaq',\n",
       " 'bajo baudo',\n",
       " 'boundiali',\n",
       " 'kaitangata',\n",
       " 'tuatapere',\n",
       " 'palabuhanratu',\n",
       " 'margate',\n",
       " 'limbdi',\n",
       " 'paytug',\n",
       " 'aswan',\n",
       " 'iskateley',\n",
       " 'zharkent',\n",
       " 'sayyan',\n",
       " 'vostok',\n",
       " 'mezen',\n",
       " 'coihaique',\n",
       " 'balkanabat',\n",
       " 'ancud',\n",
       " 'umm lajj',\n",
       " 'panama city',\n",
       " 'gizo',\n",
       " 'zhuhai',\n",
       " 'vila velha',\n",
       " 'pangnirtung',\n",
       " 'morehead',\n",
       " 'sotnikovo',\n",
       " 'hede',\n",
       " 'coquimbo',\n",
       " 'mazamet',\n",
       " 'salalah',\n",
       " 'urusha',\n",
       " 'sao joao do piaui',\n",
       " 'khonuu',\n",
       " 'bikin',\n",
       " 'kuusamo',\n",
       " 'fukue',\n",
       " 'hermanus',\n",
       " 'medvezhyegorsk',\n",
       " 'miraflores',\n",
       " 'leningradskiy',\n",
       " 'taranto',\n",
       " 'provideniya',\n",
       " 'amderma',\n",
       " 'krasnovishersk',\n",
       " 'cooma',\n",
       " 'san patricio',\n",
       " 'baldeogarh',\n",
       " 'choix',\n",
       " 'kamenskoye',\n",
       " 'karpogory',\n",
       " 'shache',\n",
       " 'the valley',\n",
       " 'safaga',\n",
       " 'wenling',\n",
       " 'port lincoln',\n",
       " 'barahona',\n",
       " 'abbeville',\n",
       " 'garmsar',\n",
       " 'flinders',\n",
       " 'kahului',\n",
       " 'kuruman',\n",
       " 'talnakh',\n",
       " 'cabo san lucas',\n",
       " 'kimbe',\n",
       " 'dogondoutchi',\n",
       " 'tecate',\n",
       " 'sao joao da barra',\n",
       " 'ondjiva',\n",
       " 'guerrero negro',\n",
       " 'lantawan',\n",
       " 'tilichiki',\n",
       " 'muros',\n",
       " 'denpasar',\n",
       " 'sistranda',\n",
       " 'mosjoen',\n",
       " 'port blair',\n",
       " 'dona ines',\n",
       " 'sabang',\n",
       " 'valparaiso',\n",
       " 'mikuni',\n",
       " 'bintulu',\n",
       " 'nemuro',\n",
       " 'vardo',\n",
       " 'vila franca do campo',\n",
       " 'slave lake',\n",
       " 'conceicao do araguaia',\n",
       " 'tabuk',\n",
       " 'ambilobe',\n",
       " 'boa vista',\n",
       " 'kalanguy',\n",
       " 'hasaki',\n",
       " 'beisfjord',\n",
       " 'qasigiannguit',\n",
       " 'ust-dzheguta',\n",
       " 'samarai',\n",
       " 'zalantun',\n",
       " 'atar',\n",
       " 'buerarema',\n",
       " 'chokurdakh',\n",
       " 'sonoita',\n",
       " 'makakilo city',\n",
       " 'omsukchan',\n",
       " 'chabahar',\n",
       " 'waipawa',\n",
       " 'san quintin',\n",
       " 'hendaye',\n",
       " 'barbar',\n",
       " 'nioaque',\n",
       " 'halvad',\n",
       " 'kitgum',\n",
       " 'alamosa',\n",
       " 'ferrol',\n",
       " 'husavik',\n",
       " 'moron',\n",
       " 'narsaq',\n",
       " 'santa maria',\n",
       " 'sayat',\n",
       " 'mountain home',\n",
       " 'huarmey',\n",
       " 'verkhnyaya inta',\n",
       " 'rafraf',\n",
       " 'nanortalik',\n",
       " 'faanui',\n",
       " 'yulara',\n",
       " 'kudat',\n",
       " 'flin flon',\n",
       " 'orlik',\n",
       " 'san isidro',\n",
       " 'aginskoye',\n",
       " 'lodwar',\n",
       " 'moundou',\n",
       " 'lata',\n",
       " 'shenjiamen',\n",
       " 'victoria',\n",
       " 'akdepe',\n",
       " 'saleaula',\n",
       " 'kenai',\n",
       " 'savannah bight',\n",
       " 'bubaque',\n",
       " 'asheboro',\n",
       " 'chitungwiza',\n",
       " 'kneza',\n",
       " 'cidreira',\n",
       " 'chipata',\n",
       " 'almaznyy',\n",
       " 'bauta',\n",
       " 'colac',\n",
       " 'martapura',\n",
       " 'krasnoborsk',\n",
       " 'saint george',\n",
       " 'oussouye',\n",
       " 'koupela',\n",
       " 'pevek',\n",
       " 'tiksi',\n",
       " 'arraial do cabo',\n",
       " 'la ronge',\n",
       " 'rolla',\n",
       " 'bousso',\n",
       " 'hokitika',\n",
       " 'luderitz',\n",
       " 'tual',\n",
       " 'paita',\n",
       " 'juneau',\n",
       " 'iralaya',\n",
       " 'riberalta',\n",
       " 'raudeberg',\n",
       " 'iqaluit',\n",
       " 'puksoozero',\n",
       " 'miyako',\n",
       " 'bridgton',\n",
       " 'lokosovo',\n",
       " 'yumen',\n",
       " 'tumannyy',\n",
       " 'jijiga',\n",
       " 'marrakesh',\n",
       " 'toppenish',\n",
       " 'abu samrah',\n",
       " 'dobryatino',\n",
       " 'aripuana',\n",
       " 'hualmay',\n",
       " 'san cristobal',\n",
       " 'sitka',\n",
       " 'opuwo',\n",
       " 'berlevag',\n",
       " 'slubice',\n",
       " 'sabha',\n",
       " 'thai binh',\n",
       " 'baracoa',\n",
       " 'andenes',\n",
       " 'sentyabrskiy',\n",
       " 'mocambique',\n",
       " 'ilulissat',\n",
       " 'fougeres',\n",
       " 'praia da vitoria',\n",
       " 'zlatoust',\n",
       " 'farafangana',\n",
       " 'vilhena',\n",
       " 'half moon bay',\n",
       " 'camacha',\n",
       " 'porto novo',\n",
       " 'sataua',\n",
       " 'soria',\n",
       " 'hendijan',\n",
       " 'souillac',\n",
       " 'heyang',\n",
       " 'peniche',\n",
       " 'anuradhapura',\n",
       " 'itupiranga',\n",
       " 'deputatskiy',\n",
       " 'bogorodskoye',\n",
       " 'jumla',\n",
       " 'torbay',\n",
       " 'kondinskoye',\n",
       " 'balikpapan',\n",
       " 'hami',\n",
       " 'worthington',\n",
       " 'ayorou',\n",
       " 'port augusta',\n",
       " 'nome',\n",
       " 'bendigo',\n",
       " 'fairbanks',\n",
       " 'lavrentiya',\n",
       " 'sumenep',\n",
       " 'bowling green',\n",
       " 'neryungri',\n",
       " 'kamsack',\n",
       " 'sorong',\n",
       " 'chifeng',\n",
       " 'miri',\n",
       " 'pacific grove',\n",
       " 'singaparna',\n",
       " 'zhezkazgan',\n",
       " 'sibiti',\n",
       " 'zavallya',\n",
       " 'mehamn',\n",
       " 'tanshui',\n",
       " 'tottori',\n",
       " 'batagay-alyta',\n",
       " 'artyk',\n",
       " 'shumikha',\n",
       " 'lorengau',\n",
       " 'lufilufi',\n",
       " 'klaksvik',\n",
       " 'sohag',\n",
       " 'mossendjo',\n",
       " 'prince rupert',\n",
       " 'muyezerskiy',\n",
       " 'champerico',\n",
       " 'honningsvag',\n",
       " 'durant',\n",
       " 'kadom',\n",
       " 'karasjok',\n",
       " 'geraldton',\n",
       " 'manaus',\n",
       " 'mercedes',\n",
       " 'bonthe',\n",
       " 'mahina',\n",
       " 'tuy hoa',\n",
       " 'abu jubayhah',\n",
       " 'mutterstadt',\n",
       " 'kununurra',\n",
       " 'cumana',\n",
       " 'archidona',\n",
       " 'svetlyy',\n",
       " 'ben tre',\n",
       " 'petropavlovsk-kamchatskiy',\n",
       " 'kijang',\n",
       " 'gamba',\n",
       " 'khudumelapye',\n",
       " 'ponnani',\n",
       " 'callaguip',\n",
       " 'clyde river',\n",
       " 'antofagasta',\n",
       " 'bouna',\n",
       " 'viedma',\n",
       " 'ulaanbaatar',\n",
       " 'nisia floresta',\n",
       " 'sojat',\n",
       " 'sur',\n",
       " 'caramay',\n",
       " 'tsaratanana',\n",
       " 'nuuk',\n",
       " 'angoche',\n",
       " 'turayf',\n",
       " 'eydhafushi',\n",
       " 'tanete',\n",
       " 'marcona',\n",
       " 'porgera',\n",
       " 'paamiut',\n",
       " 'churapcha',\n",
       " 'mogadishu',\n",
       " 'nalut',\n",
       " 'shaunavon',\n",
       " 'solsvik',\n",
       " 'krivosheino',\n",
       " 'san jose',\n",
       " 'uruzgan',\n",
       " 'tiarei',\n",
       " 'altamont',\n",
       " 'la palma',\n",
       " 'kaseda',\n",
       " 'hanna',\n",
       " 'jati',\n",
       " 'chuy',\n",
       " 'chulym',\n",
       " 'bratsk',\n",
       " 'darab',\n",
       " 'aksay',\n",
       " 'manbij',\n",
       " 'campana',\n",
       " 'ballina',\n",
       " 'aksarka',\n",
       " 'camacupa',\n",
       " 'beloha',\n",
       " 'san francisco',\n",
       " 'quatre cocos',\n",
       " 'tirukkoyilur',\n",
       " 'pisco',\n",
       " 'bolungarvik',\n",
       " 'pizarro',\n",
       " 'panlaitan',\n",
       " 'callaway',\n",
       " 'nador',\n",
       " 'namtsy',\n",
       " 'airai',\n",
       " 'oranjemund',\n",
       " 'maykain',\n",
       " 'novoagansk',\n",
       " 'ruteng',\n",
       " 'chilca',\n",
       " 'doha',\n",
       " 'asayita',\n",
       " 'whitehorse',\n",
       " 'maragogi',\n",
       " 'alofi',\n",
       " 'lensk',\n",
       " 'trapani',\n",
       " 'teguldet',\n",
       " 'phan thiet',\n",
       " 'iranshahr',\n",
       " 'millbrook',\n",
       " 'saint-joseph',\n",
       " 'ewa beach',\n",
       " 'langsa',\n",
       " 'cotonou',\n",
       " 'chornukhy',\n",
       " 'diebougou',\n",
       " 'coos bay',\n",
       " 'kendari',\n",
       " 'victor harbor',\n",
       " 'the pas',\n",
       " 'rio muerto',\n",
       " 'boralday',\n",
       " 'ravar',\n",
       " 'auki',\n",
       " 'cedar city',\n",
       " 'flores',\n",
       " 'vaitupu',\n",
       " 'morgan city',\n",
       " 'shagonar',\n",
       " 'parambu',\n",
       " 'bereznik',\n",
       " 'greenville',\n",
       " 'alfatar',\n",
       " 'guanica',\n",
       " 'alta floresta',\n",
       " 'silver city',\n",
       " 'rio grande',\n",
       " 'tenenkou',\n",
       " 'santa rosa',\n",
       " 'te anau',\n",
       " 'bayir',\n",
       " 'jiujiang',\n",
       " 'parkes',\n",
       " 'we',\n",
       " 'dwarka',\n",
       " 'sumbawa',\n",
       " 'yarada',\n",
       " 'mehtar lam',\n",
       " 'asfi',\n",
       " 'murdochville',\n",
       " 'varadero',\n",
       " 'longyearbyen',\n",
       " 'smithers',\n",
       " 'tessalit',\n",
       " 'zhigansk',\n",
       " 'wagar',\n",
       " 'senneterre',\n",
       " 'soyo',\n",
       " 'listvyanskiy',\n",
       " 'krasnoselkup',\n",
       " 'grootfontein',\n",
       " 'tarnogskiy gorodok',\n",
       " 'log',\n",
       " 'sambava',\n",
       " 'hemnesberget',\n",
       " 'ayr',\n",
       " 'blantyre',\n",
       " 'mlonggo',\n",
       " 'tonantins',\n",
       " 'bende',\n",
       " 'urdzhar',\n",
       " 'batemans bay',\n",
       " 'hurghada',\n",
       " 'namibe',\n",
       " 'namatanai',\n",
       " 'quelimane',\n",
       " 'moroni',\n",
       " 'okhotsk',\n",
       " 'manta',\n",
       " 'dunmore town',\n",
       " 'puerto madryn',\n",
       " 'inndyr',\n",
       " 'toliary',\n",
       " 'hovd',\n",
       " 'la rioja',\n",
       " 'galgani',\n",
       " 'amposta',\n",
       " 'santa cruz de la palma',\n",
       " 'pelym',\n",
       " 'ilebo',\n",
       " 'bastia',\n",
       " 'portland',\n",
       " 'warri']"
      ]
     },
     "execution_count": 10,
     "metadata": {},
     "output_type": "execute_result"
    }
   ],
   "source": [
    "cities"
   ]
  },
  {
   "cell_type": "markdown",
   "metadata": {},
   "source": [
    "### Perform API Calls\n",
    "* Perform a weather check on each city using a series of successive API calls.\n",
    "* Include a print log of each city as it'sbeing processed (with the city number and city name).\n"
   ]
  },
  {
   "cell_type": "code",
   "execution_count": 3,
   "metadata": {},
   "outputs": [],
   "source": [
    "import json\n",
    "import csv\n",
    "url=\"http://api.openweathermap.org/data/2.5/weather?\"\n",
    "query_url=f\"{url}appid={weather_api_key}&units=metric&q=\"\n",
    "record=0\n",
    "cloud=[]\n",
    "country=[]\n",
    "date=[]\n",
    "humidity=[]\n",
    "lat=[]\n",
    "lng=[]\n",
    "maxtemp=[]\n",
    "wind=[]\n",
    "cities_new=[]\n"
   ]
  },
  {
   "cell_type": "code",
   "execution_count": null,
   "metadata": {},
   "outputs": [],
   "source": []
  },
  {
   "cell_type": "code",
   "execution_count": null,
   "metadata": {},
   "outputs": [],
   "source": []
  },
  {
   "cell_type": "code",
   "execution_count": 4,
   "metadata": {},
   "outputs": [
    {
     "name": "stdout",
     "output_type": "stream",
     "text": [
      "\n",
      "     Beginning Data Retrieval \n",
      "     --------------------------- \n",
      "Proccesing Record 1 | kahului\n",
      "Proccesing Record 2 | charters towers\n",
      "Proccesing Record 3 | kapaa\n",
      "Proccesing Record 4 | cabo san lucas\n",
      "Proccesing Record 5 | vaini\n",
      "Proccesing Record 6 | sentyabrskiy\n",
      "City not Found. Skipping...\n",
      "Proccesing Record 7 | rikitea\n",
      "Proccesing Record 8 | yellowknife\n",
      "Proccesing Record 9 | george\n",
      "Proccesing Record 10 | new norfolk\n",
      "Proccesing Record 11 | vila franca do campo\n",
      "Proccesing Record 12 | aksarka\n",
      "Proccesing Record 13 | aleksandrov gay\n",
      "Proccesing Record 14 | takoradi\n",
      "Proccesing Record 15 | tunduru\n",
      "City not Found. Skipping...\n",
      "Proccesing Record 16 | poum\n",
      "Proccesing Record 17 | samusu\n",
      "City not Found. Skipping...\n",
      "Proccesing Record 18 | maumere\n",
      "Proccesing Record 19 | kysyl-syr\n",
      "Proccesing Record 20 | gubkinskiy\n",
      "Proccesing Record 21 | bluff\n",
      "Proccesing Record 22 | guerrero negro\n",
      "Proccesing Record 23 | saint-philippe\n",
      "Proccesing Record 24 | ushuaia\n",
      "Proccesing Record 25 | albany\n",
      "Proccesing Record 26 | arraial do cabo\n",
      "Proccesing Record 27 | dire\n",
      "Proccesing Record 28 | avera\n",
      "Proccesing Record 29 | busselton\n",
      "Proccesing Record 30 | atuona\n",
      "Proccesing Record 31 | jamestown\n",
      "Proccesing Record 32 | taolanaro\n",
      "City not Found. Skipping...\n",
      "Proccesing Record 33 | hilo\n",
      "Proccesing Record 34 | naze\n",
      "Proccesing Record 35 | sitka\n",
      "Proccesing Record 36 | port elizabeth\n",
      "Proccesing Record 37 | pevek\n",
      "Proccesing Record 38 | punta arenas\n",
      "Proccesing Record 39 | paamiut\n",
      "Proccesing Record 40 | cape town\n",
      "Proccesing Record 41 | puri\n",
      "Proccesing Record 42 | mataura\n",
      "Proccesing Record 43 | youkounkoun\n",
      "Proccesing Record 44 | tiksi\n",
      "Proccesing Record 45 | cherskiy\n",
      "Proccesing Record 46 | mar del plata\n",
      "Proccesing Record 47 | hirara\n",
      "Proccesing Record 48 | laiagam\n",
      "City not Found. Skipping...\n",
      "Proccesing Record 49 | tsihombe\n",
      "City not Found. Skipping...\n",
      "Proccesing Record 50 | goderich\n",
      "Proccesing Record 51 | nemuro\n",
      "Proccesing Record 52 | oktyabrskoye\n",
      "Proccesing Record 53 | urdzhar\n",
      "City not Found. Skipping...\n",
      "Proccesing Record 54 | port alfred\n",
      "Proccesing Record 55 | aviles\n",
      "Proccesing Record 56 | andevoranto\n",
      "City not Found. Skipping...\n",
      "Proccesing Record 57 | chumikan\n",
      "Proccesing Record 58 | te anau\n",
      "Proccesing Record 59 | avarua\n",
      "Proccesing Record 60 | castro\n",
      "Proccesing Record 61 | broken hill\n",
      "Proccesing Record 62 | cidreira\n",
      "Proccesing Record 63 | ponta do sol\n",
      "Proccesing Record 64 | elizabeth city\n",
      "Proccesing Record 65 | port blair\n",
      "Proccesing Record 66 | grand centre\n",
      "City not Found. Skipping...\n",
      "Proccesing Record 67 | provideniya\n",
      "Proccesing Record 68 | karratha\n",
      "Proccesing Record 69 | nikolskoye\n",
      "Proccesing Record 70 | kushima\n",
      "Proccesing Record 71 | chuy\n",
      "Proccesing Record 72 | kashary\n",
      "Proccesing Record 73 | upernavik\n",
      "Proccesing Record 74 | torbay\n",
      "Proccesing Record 75 | dikson\n",
      "Proccesing Record 76 | ndele\n",
      "Proccesing Record 77 | homer\n",
      "Proccesing Record 78 | hobart\n",
      "Proccesing Record 79 | paragominas\n",
      "Proccesing Record 80 | khatanga\n",
      "Proccesing Record 81 | tuktoyaktuk\n",
      "Proccesing Record 82 | ust-nera\n",
      "Proccesing Record 83 | qingdao\n",
      "Proccesing Record 84 | lompoc\n",
      "Proccesing Record 85 | morros\n",
      "Proccesing Record 86 | kimbe\n",
      "Proccesing Record 87 | nansio\n",
      "Proccesing Record 88 | loubomo\n",
      "Proccesing Record 89 | vostok\n",
      "Proccesing Record 90 | sapulpa\n",
      "Proccesing Record 91 | inta\n",
      "Proccesing Record 92 | chernyshevskiy\n",
      "Proccesing Record 93 | pochutla\n",
      "Proccesing Record 94 | pozo colorado\n",
      "Proccesing Record 95 | lebu\n",
      "Proccesing Record 96 | carnarvon\n",
      "Proccesing Record 97 | butaritari\n",
      "Proccesing Record 98 | nouadhibou\n",
      "Proccesing Record 99 | shache\n",
      "Proccesing Record 100 | thompson\n",
      "Proccesing Record 101 | shingu\n",
      "Proccesing Record 102 | saleaula\n",
      "City not Found. Skipping...\n",
      "Proccesing Record 103 | los llanos de aridane\n",
      "Proccesing Record 104 | tromso\n",
      "Proccesing Record 105 | kati\n",
      "Proccesing Record 106 | inhambane\n",
      "Proccesing Record 107 | lorengau\n",
      "Proccesing Record 108 | sioux lookout\n",
      "Proccesing Record 109 | chandur bazar\n",
      "Proccesing Record 110 | coihaique\n",
      "Proccesing Record 111 | san matias\n",
      "Proccesing Record 112 | husavik\n",
      "Proccesing Record 113 | xiangdong\n",
      "City not Found. Skipping...\n",
      "Proccesing Record 114 | ilhabela\n",
      "Proccesing Record 115 | tasiilaq\n",
      "Proccesing Record 116 | honiara\n",
      "Proccesing Record 117 | harper\n",
      "Proccesing Record 118 | chateaubelair\n",
      "Proccesing Record 119 | coquimbo\n",
      "Proccesing Record 120 | alofi\n",
      "Proccesing Record 121 | buraydah\n",
      "Proccesing Record 122 | georgetown\n",
      "Proccesing Record 123 | borborema\n",
      "Proccesing Record 124 | lichinga\n",
      "Proccesing Record 125 | terney\n",
      "Proccesing Record 126 | mahebourg\n",
      "Proccesing Record 127 | kaduqli\n",
      "Proccesing Record 128 | halalo\n",
      "City not Found. Skipping...\n",
      "Proccesing Record 129 | rosario\n",
      "Proccesing Record 130 | kalmunai\n",
      "Proccesing Record 131 | valle de santiago\n",
      "Proccesing Record 132 | port hardy\n",
      "Proccesing Record 133 | taonan\n",
      "Proccesing Record 134 | hithadhoo\n",
      "Proccesing Record 135 | axim\n",
      "Proccesing Record 136 | alihe\n",
      "Proccesing Record 137 | barrow\n",
      "Proccesing Record 138 | simpang empat\n",
      "Proccesing Record 139 | podosinovets\n",
      "Proccesing Record 140 | bonavista\n",
      "Proccesing Record 141 | manado\n",
      "Proccesing Record 142 | cranbrook\n",
      "Proccesing Record 143 | mys shmidta\n",
      "City not Found. Skipping...\n",
      "Proccesing Record 144 | bereda\n",
      "Proccesing Record 145 | hami\n",
      "Proccesing Record 146 | katsuura\n",
      "Proccesing Record 147 | belushya guba\n",
      "City not Found. Skipping...\n",
      "Proccesing Record 148 | north bend\n",
      "Proccesing Record 149 | inuvik\n",
      "Proccesing Record 150 | ust-maya\n",
      "Proccesing Record 151 | saskylakh\n",
      "Proccesing Record 152 | marsh harbour\n",
      "Proccesing Record 153 | illoqqortoormiut\n",
      "City not Found. Skipping...\n",
      "Proccesing Record 154 | ostrovnoy\n",
      "Proccesing Record 155 | arlit\n",
      "Proccesing Record 156 | narsaq\n",
      "Proccesing Record 157 | greencastle\n",
      "Proccesing Record 158 | bajo baudo\n",
      "City not Found. Skipping...\n",
      "Proccesing Record 159 | umm jarr\n",
      "City not Found. Skipping...\n",
      "Proccesing Record 160 | swan hill\n",
      "Proccesing Record 161 | tumannyy\n",
      "City not Found. Skipping...\n",
      "Proccesing Record 162 | kutahya\n",
      "Proccesing Record 163 | airai\n",
      "Proccesing Record 164 | tocopilla\n",
      "Proccesing Record 165 | kununurra\n",
      "Proccesing Record 166 | dawlatabad\n",
      "Proccesing Record 167 | atambua\n",
      "Proccesing Record 168 | port hedland\n",
      "Proccesing Record 169 | matara\n",
      "Proccesing Record 170 | escarcega\n",
      "Proccesing Record 171 | salmas\n",
      "Proccesing Record 172 | amderma\n",
      "City not Found. Skipping...\n",
      "Proccesing Record 173 | barentsburg\n",
      "City not Found. Skipping...\n",
      "Proccesing Record 174 | ancud\n",
      "Proccesing Record 175 | isangel\n",
      "Proccesing Record 176 | hobyo\n",
      "Proccesing Record 177 | port augusta\n",
      "Proccesing Record 178 | shengjin\n",
      "Proccesing Record 179 | eldikan\n",
      "City not Found. Skipping...\n",
      "Proccesing Record 180 | lagoa\n",
      "Proccesing Record 181 | lagos\n",
      "Proccesing Record 182 | saint-augustin\n",
      "Proccesing Record 183 | laibin\n",
      "Proccesing Record 184 | rungata\n",
      "City not Found. Skipping...\n",
      "Proccesing Record 185 | kutum\n",
      "Proccesing Record 186 | mbeya\n",
      "Proccesing Record 187 | leningradskiy\n",
      "Proccesing Record 188 | faanui\n",
      "Proccesing Record 189 | ribeira grande\n",
      "Proccesing Record 190 | innisfail\n",
      "Proccesing Record 191 | bethel\n",
      "Proccesing Record 192 | sataua\n",
      "City not Found. Skipping...\n",
      "Proccesing Record 193 | tartagal\n",
      "Proccesing Record 194 | gracac\n",
      "Proccesing Record 195 | turayf\n",
      "Proccesing Record 196 | puerto ayora\n",
      "Proccesing Record 197 | luderitz\n",
      "Proccesing Record 198 | nome\n",
      "Proccesing Record 199 | kavieng\n",
      "Proccesing Record 200 | acari\n",
      "Proccesing Record 201 | pahalgam\n",
      "Proccesing Record 202 | kruisfontein\n",
      "Proccesing Record 203 | pingzhuang\n",
      "Proccesing Record 204 | devarkonda\n",
      "Proccesing Record 205 | yei\n",
      "Proccesing Record 206 | qaqortoq\n",
      "Proccesing Record 207 | mnogovershinnyy\n",
      "Proccesing Record 208 | yanchukan\n",
      "City not Found. Skipping...\n",
      "Proccesing Record 209 | suntar\n",
      "Proccesing Record 210 | maragogi\n",
      "Proccesing Record 211 | koumac\n",
      "Proccesing Record 212 | amontada\n",
      "Proccesing Record 213 | bud\n",
      "Proccesing Record 214 | rosarito\n",
      "Proccesing Record 215 | kristiinankaupunki\n",
      "Proccesing Record 216 | goma\n",
      "Proccesing Record 217 | pemangkat\n",
      "Proccesing Record 218 | nizhneyansk\n",
      "City not Found. Skipping...\n",
      "Proccesing Record 219 | lolua\n",
      "City not Found. Skipping...\n",
      "Proccesing Record 220 | znamenskoye\n",
      "Proccesing Record 221 | aklavik\n",
      "Proccesing Record 222 | la asuncion\n",
      "Proccesing Record 223 | jagannathpur\n",
      "Proccesing Record 224 | hermanus\n",
      "Proccesing Record 225 | vaitupu\n",
      "City not Found. Skipping...\n"
     ]
    },
    {
     "name": "stdout",
     "output_type": "stream",
     "text": [
      "Proccesing Record 226 | baruun-urt\n",
      "Proccesing Record 227 | comodoro rivadavia\n",
      "Proccesing Record 228 | qaanaaq\n",
      "Proccesing Record 229 | brae\n",
      "Proccesing Record 230 | cockburn town\n",
      "Proccesing Record 231 | ergani\n",
      "Proccesing Record 232 | constitucion\n",
      "Proccesing Record 233 | mouzakion\n",
      "City not Found. Skipping...\n",
      "Proccesing Record 234 | hangu\n",
      "Proccesing Record 235 | esperance\n",
      "Proccesing Record 236 | santa maria\n",
      "Proccesing Record 237 | kodiak\n",
      "Proccesing Record 238 | haines junction\n",
      "Proccesing Record 239 | banyo\n",
      "Proccesing Record 240 | cardoso\n",
      "Proccesing Record 241 | tidore\n",
      "City not Found. Skipping...\n",
      "Proccesing Record 242 | bengkulu\n",
      "Proccesing Record 243 | beaufort\n",
      "Proccesing Record 244 | shaowu\n",
      "Proccesing Record 245 | buariki\n",
      "City not Found. Skipping...\n",
      "Proccesing Record 246 | sorong\n",
      "Proccesing Record 247 | hellvik\n",
      "Proccesing Record 248 | bredasdorp\n",
      "Proccesing Record 249 | victoria\n",
      "Proccesing Record 250 | margherita\n",
      "Proccesing Record 251 | zhangye\n",
      "Proccesing Record 252 | ilulissat\n",
      "Proccesing Record 253 | streator\n",
      "Proccesing Record 254 | fushun\n",
      "Proccesing Record 255 | grand gaube\n",
      "Proccesing Record 256 | neubrandenburg\n",
      "Proccesing Record 257 | porbandar\n",
      "Proccesing Record 258 | laguna\n",
      "Proccesing Record 259 | dongsheng\n",
      "Proccesing Record 260 | eenhana\n",
      "Proccesing Record 261 | san cristobal\n",
      "Proccesing Record 262 | tessalit\n",
      "Proccesing Record 263 | zaterechnyy\n",
      "Proccesing Record 264 | chiang klang\n",
      "Proccesing Record 265 | hualmay\n",
      "Proccesing Record 266 | codrington\n",
      "Proccesing Record 267 | pitimbu\n",
      "Proccesing Record 268 | bathsheba\n",
      "Proccesing Record 269 | gazojak\n",
      "Proccesing Record 270 | bilibino\n",
      "Proccesing Record 271 | tuatapere\n",
      "Proccesing Record 272 | amazar\n",
      "Proccesing Record 273 | pisco\n",
      "Proccesing Record 274 | kilindoni\n",
      "Proccesing Record 275 | ahipara\n",
      "Proccesing Record 276 | plaster rock\n",
      "Proccesing Record 277 | luganville\n",
      "Proccesing Record 278 | sakakah\n",
      "Proccesing Record 279 | wolnzach\n",
      "Proccesing Record 280 | yumen\n",
      "Proccesing Record 281 | bonthe\n",
      "Proccesing Record 282 | perigueux\n",
      "Proccesing Record 283 | zakamensk\n",
      "Proccesing Record 284 | puerto gaitan\n",
      "Proccesing Record 285 | ternate\n",
      "Proccesing Record 286 | corrales\n",
      "Proccesing Record 287 | geraldton\n",
      "Proccesing Record 288 | stepnyak\n",
      "Proccesing Record 289 | aksha\n",
      "Proccesing Record 290 | chagda\n",
      "City not Found. Skipping...\n",
      "Proccesing Record 291 | peniche\n",
      "Proccesing Record 292 | rio gallegos\n",
      "Proccesing Record 293 | nanortalik\n",
      "Proccesing Record 294 | santa isabel do rio negro\n",
      "Proccesing Record 295 | yeppoon\n",
      "Proccesing Record 296 | belmonte\n",
      "Proccesing Record 297 | scarborough\n",
      "Proccesing Record 298 | aswan\n",
      "Proccesing Record 299 | moa\n",
      "Proccesing Record 300 | dingle\n",
      "Proccesing Record 301 | nhulunbuy\n",
      "Proccesing Record 302 | nuuk\n",
      "Proccesing Record 303 | birao\n",
      "Proccesing Record 304 | blagoyevo\n",
      "Proccesing Record 305 | marcona\n",
      "City not Found. Skipping...\n",
      "Proccesing Record 306 | humaita\n",
      "Proccesing Record 307 | tsumeb\n",
      "Proccesing Record 308 | corning\n",
      "Proccesing Record 309 | temaraia\n",
      "City not Found. Skipping...\n",
      "Proccesing Record 310 | wamba\n",
      "Proccesing Record 311 | marawi\n",
      "Proccesing Record 312 | talnakh\n",
      "Proccesing Record 313 | severo-kurilsk\n",
      "Proccesing Record 314 | winslow\n",
      "Proccesing Record 315 | alto araguaia\n",
      "Proccesing Record 316 | soverato\n",
      "Proccesing Record 317 | weligama\n",
      "Proccesing Record 318 | kangaatsiaq\n",
      "Proccesing Record 319 | pembroke\n",
      "Proccesing Record 320 | darnah\n",
      "Proccesing Record 321 | tilichiki\n",
      "Proccesing Record 322 | vilyuysk\n",
      "Proccesing Record 323 | sao joao da barra\n",
      "Proccesing Record 324 | grindavik\n",
      "Proccesing Record 325 | choya\n",
      "Proccesing Record 326 | bara\n",
      "Proccesing Record 327 | kanigoro\n",
      "Proccesing Record 328 | kaitangata\n",
      "Proccesing Record 329 | thinadhoo\n",
      "Proccesing Record 330 | rabat\n",
      "Proccesing Record 331 | saint-leu\n",
      "Proccesing Record 332 | mayo\n",
      "Proccesing Record 333 | mana\n",
      "Proccesing Record 334 | katherine\n",
      "Proccesing Record 335 | kloulklubed\n",
      "Proccesing Record 336 | mocorito\n",
      "Proccesing Record 337 | makakilo city\n",
      "Proccesing Record 338 | sagua la grande\n",
      "Proccesing Record 339 | talcahuano\n",
      "Proccesing Record 340 | mackenzie\n",
      "Proccesing Record 341 | labuhan\n",
      "Proccesing Record 342 | olafsvik\n",
      "Proccesing Record 343 | hasaki\n",
      "Proccesing Record 344 | antofagasta\n",
      "Proccesing Record 345 | yulara\n",
      "Proccesing Record 346 | hofn\n",
      "Proccesing Record 347 | ampanihy\n",
      "Proccesing Record 348 | mandera\n",
      "Proccesing Record 349 | khorinsk\n",
      "Proccesing Record 350 | halifax\n",
      "Proccesing Record 351 | buala\n",
      "Proccesing Record 352 | disna\n",
      "Proccesing Record 353 | santiago\n",
      "Proccesing Record 354 | okhotsk\n",
      "Proccesing Record 355 | lima\n",
      "Proccesing Record 356 | longyearbyen\n",
      "Proccesing Record 357 | mehamn\n",
      "Proccesing Record 358 | abu kamal\n",
      "Proccesing Record 359 | zlobin\n",
      "Proccesing Record 360 | siquinala\n",
      "Proccesing Record 361 | mogadishu\n",
      "Proccesing Record 362 | owosso\n",
      "Proccesing Record 363 | kenai\n",
      "Proccesing Record 364 | antalaha\n",
      "Proccesing Record 365 | monrovia\n",
      "Proccesing Record 366 | port macquarie\n",
      "Proccesing Record 367 | norsup\n",
      "Proccesing Record 368 | anadyr\n",
      "Proccesing Record 369 | hambantota\n",
      "Proccesing Record 370 | college\n",
      "Proccesing Record 371 | sao filipe\n",
      "Proccesing Record 372 | derzhavinsk\n",
      "Proccesing Record 373 | richards bay\n",
      "Proccesing Record 374 | namibe\n",
      "Proccesing Record 375 | ipu\n",
      "Proccesing Record 376 | umzimvubu\n",
      "City not Found. Skipping...\n",
      "Proccesing Record 377 | aldine\n",
      "Proccesing Record 378 | goulburn\n",
      "Proccesing Record 379 | high prairie\n",
      "Proccesing Record 380 | hamilton\n",
      "Proccesing Record 381 | cayenne\n",
      "Proccesing Record 382 | nevelsk\n",
      "Proccesing Record 383 | doume\n",
      "Proccesing Record 384 | livingston\n",
      "Proccesing Record 385 | zaozerne\n",
      "Proccesing Record 386 | havelock\n",
      "Proccesing Record 387 | waipawa\n",
      "Proccesing Record 388 | iqaluit\n",
      "Proccesing Record 389 | verkhnyaya inta\n",
      "Proccesing Record 390 | northam\n",
      "Proccesing Record 391 | necochea\n",
      "Proccesing Record 392 | stillwater\n",
      "Proccesing Record 393 | liangxiang\n",
      "Proccesing Record 394 | waingapu\n",
      "Proccesing Record 395 | kuusamo\n",
      "Proccesing Record 396 | vitim\n",
      "Proccesing Record 397 | de aar\n",
      "Proccesing Record 398 | biankouma\n",
      "Proccesing Record 399 | petropavlovsk-kamchatskiy\n",
      "Proccesing Record 400 | bambous virieux\n",
      "Proccesing Record 401 | yining\n",
      "Proccesing Record 402 | portland\n",
      "Proccesing Record 403 | sabang\n",
      "Proccesing Record 404 | beringovskiy\n",
      "Proccesing Record 405 | bandarbeyla\n",
      "Proccesing Record 406 | nata\n",
      "Proccesing Record 407 | norman wells\n",
      "Proccesing Record 408 | vardo\n",
      "Proccesing Record 409 | muravlenko\n",
      "Proccesing Record 410 | pangnirtung\n",
      "Proccesing Record 411 | rudbar\n",
      "Proccesing Record 412 | fairbanks\n",
      "Proccesing Record 413 | timmins\n",
      "Proccesing Record 414 | cocula\n",
      "Proccesing Record 415 | gisborne\n",
      "Proccesing Record 416 | kafue\n",
      "Proccesing Record 417 | jackson\n",
      "Proccesing Record 418 | robe\n",
      "Proccesing Record 419 | kabalo\n",
      "Proccesing Record 420 | catuday\n",
      "Proccesing Record 421 | klaksvik\n",
      "Proccesing Record 422 | khategaon\n",
      "Proccesing Record 423 | bolshaya murta\n",
      "City not Found. Skipping...\n",
      "Proccesing Record 424 | tawkar\n",
      "City not Found. Skipping...\n",
      "Proccesing Record 425 | slave lake\n",
      "Proccesing Record 426 | mitsamiouli\n",
      "Proccesing Record 427 | zhob\n",
      "Proccesing Record 428 | visby\n",
      "Proccesing Record 429 | price\n",
      "Proccesing Record 430 | saldanha\n",
      "Proccesing Record 431 | wolmaranstad\n",
      "City not Found. Skipping...\n",
      "Proccesing Record 432 | quatre cocos\n",
      "Proccesing Record 433 | pafos\n",
      "Proccesing Record 434 | neiafu\n",
      "Proccesing Record 435 | mondolfo\n",
      "Proccesing Record 436 | clinton\n",
      "Proccesing Record 437 | kendari\n",
      "Proccesing Record 438 | achern\n",
      "Proccesing Record 439 | fort nelson\n",
      "Proccesing Record 440 | tucuman\n",
      "Proccesing Record 441 | conceicao do araguaia\n",
      "Proccesing Record 442 | bubaque\n",
      "Proccesing Record 443 | pringsewu\n",
      "Proccesing Record 444 | vidim\n",
      "Proccesing Record 445 | piritiba\n",
      "Proccesing Record 446 | araouane\n",
      "Proccesing Record 447 | manggar\n",
      "Proccesing Record 448 | tautira\n",
      "Proccesing Record 449 | east london\n",
      "Proccesing Record 450 | hosingen\n",
      "Proccesing Record 451 | zaprudnya\n",
      "Proccesing Record 452 | villeneuve-les-avignon\n",
      "Proccesing Record 453 | mayachnyy\n",
      "Proccesing Record 454 | sawasawa\n",
      "City not Found. Skipping...\n",
      "Proccesing Record 455 | alyangula\n",
      "Proccesing Record 456 | salalah\n",
      "Proccesing Record 457 | isiolo\n",
      "Proccesing Record 458 | vila\n",
      "Proccesing Record 459 | gijon\n",
      "Proccesing Record 460 | alice springs\n",
      "Proccesing Record 461 | le port\n",
      "Proccesing Record 462 | show low\n"
     ]
    },
    {
     "name": "stdout",
     "output_type": "stream",
     "text": [
      "Proccesing Record 463 | cururupu\n",
      "Proccesing Record 464 | karaul\n",
      "City not Found. Skipping...\n",
      "Proccesing Record 465 | karakendzha\n",
      "City not Found. Skipping...\n",
      "Proccesing Record 466 | harlev\n",
      "Proccesing Record 467 | muros\n",
      "Proccesing Record 468 | salym\n",
      "Proccesing Record 469 | troitskoye\n",
      "Proccesing Record 470 | glendive\n",
      "Proccesing Record 471 | kuruman\n",
      "Proccesing Record 472 | roura\n",
      "Proccesing Record 473 | kungsbacka\n",
      "Proccesing Record 474 | panaba\n",
      "Proccesing Record 475 | pacific grove\n",
      "Proccesing Record 476 | one hundred mile house\n",
      "City not Found. Skipping...\n",
      "Proccesing Record 477 | calabozo\n",
      "Proccesing Record 478 | altamira\n",
      "Proccesing Record 479 | waddan\n",
      "Proccesing Record 480 | lobo\n",
      "Proccesing Record 481 | pleshanovo\n",
      "Proccesing Record 482 | fuling\n",
      "Proccesing Record 483 | flinders\n",
      "Proccesing Record 484 | tsogni\n",
      "Proccesing Record 485 | raton\n",
      "Proccesing Record 486 | csabacsud\n",
      "City not Found. Skipping...\n",
      "Proccesing Record 487 | simao\n",
      "Proccesing Record 488 | athabasca\n",
      "Proccesing Record 489 | vila do maio\n",
      "Proccesing Record 490 | islamkot\n",
      "Proccesing Record 491 | faya\n",
      "Proccesing Record 492 | zasheyek\n",
      "Proccesing Record 493 | artyom\n",
      "Proccesing Record 494 | slyudyanka\n",
      "Proccesing Record 495 | pavilosta\n",
      "Proccesing Record 496 | chanderi\n",
      "Proccesing Record 497 | abu dhabi\n",
      "Proccesing Record 498 | el rincon\n",
      "Proccesing Record 499 | guaratinga\n",
      "Proccesing Record 500 | pedernales\n",
      "Proccesing Record 501 | moyale\n",
      "Proccesing Record 502 | warri\n",
      "Proccesing Record 503 | tukrah\n",
      "Proccesing Record 504 | moose factory\n",
      "Proccesing Record 505 | vao\n",
      "Proccesing Record 506 | sambava\n",
      "Proccesing Record 507 | muisne\n",
      "Proccesing Record 508 | chokurdakh\n",
      "Proccesing Record 509 | chiang rai\n",
      "Proccesing Record 510 | attawapiskat\n",
      "City not Found. Skipping...\n",
      "Proccesing Record 511 | nabire\n",
      "Proccesing Record 512 | kawalu\n",
      "Proccesing Record 513 | nelson bay\n",
      "Proccesing Record 514 | egvekinot\n",
      "Proccesing Record 515 | san vicente\n",
      "Proccesing Record 516 | fukue\n",
      "Proccesing Record 517 | jahrom\n",
      "City not Found. Skipping...\n",
      "Proccesing Record 518 | vestmanna\n",
      "Proccesing Record 519 | bridlington\n",
      "Proccesing Record 520 | tabas\n",
      "Proccesing Record 521 | kanadukathan\n",
      "Proccesing Record 522 | mrirt\n",
      "City not Found. Skipping...\n",
      "Proccesing Record 523 | srednekolymsk\n",
      "Proccesing Record 524 | palabuhanratu\n",
      "City not Found. Skipping...\n",
      "Proccesing Record 525 | noyabrsk\n",
      "Proccesing Record 526 | ponta delgada\n",
      "Proccesing Record 527 | vetluga\n",
      "Proccesing Record 528 | kamskiye polyany\n",
      "Proccesing Record 529 | mamurras\n",
      "Proccesing Record 530 | zaraza\n",
      "Proccesing Record 531 | la ronge\n",
      "Proccesing Record 532 | asau\n",
      "Proccesing Record 533 | grand river south east\n",
      "City not Found. Skipping...\n",
      "Proccesing Record 534 | kopychyntsi\n",
      "Proccesing Record 535 | kargopol\n",
      "Proccesing Record 536 | botucatu\n",
      "Proccesing Record 537 | jadu\n",
      "Proccesing Record 538 | lavrentiya\n",
      "Proccesing Record 539 | kinsale\n",
      "Proccesing Record 540 | fortuna\n",
      "Proccesing Record 541 | kunming\n",
      "Proccesing Record 542 | berlevag\n",
      "Proccesing Record 543 | rocha\n",
      "Proccesing Record 544 | sandnessjoen\n",
      "Proccesing Record 545 | gat\n",
      "Proccesing Record 546 | areni\n",
      "Proccesing Record 547 | aflu\n",
      "City not Found. Skipping...\n",
      "Proccesing Record 548 | terrace\n",
      "Proccesing Record 549 | oxford\n",
      "Proccesing Record 550 | otane\n",
      "Proccesing Record 551 | azimur\n",
      "City not Found. Skipping...\n",
      "Proccesing Record 552 | prince rupert\n",
      "Proccesing Record 553 | berga\n",
      "Proccesing Record 554 | soma\n",
      "Proccesing Record 555 | stoyba\n",
      "City not Found. Skipping...\n",
      "Proccesing Record 556 | morant bay\n",
      "Proccesing Record 557 | bar harbor\n",
      "Proccesing Record 558 | nizhniy tsasuchey\n",
      "Proccesing Record 559 | mukhen\n",
      "Proccesing Record 560 | changping\n",
      "Proccesing Record 561 | tazmalt\n",
      "Proccesing Record 562 | steinbach\n",
      "Proccesing Record 563 | mercedes\n",
      "Proccesing Record 564 | marshall\n",
      "Proccesing Record 565 | pareora\n",
      "Proccesing Record 566 | svetlaya\n",
      "Proccesing Record 567 | martapura\n",
      "Proccesing Record 568 | rolim de moura\n",
      "City not Found. Skipping...\n",
      "Proccesing Record 569 | kitob\n",
      "Proccesing Record 570 | maneadero\n",
      "Proccesing Record 571 | mehran\n",
      "Proccesing Record 572 | angicos\n",
      "Proccesing Record 573 | saint-pierre\n",
      "Proccesing Record 574 | kalabo\n",
      "Proccesing Record 575 | taoudenni\n",
      "Proccesing Record 576 | upata\n",
      "Proccesing Record 577 | meulaboh\n",
      "Proccesing Record 578 | bintulu\n",
      "Proccesing Record 579 | viligili\n",
      "City not Found. Skipping...\n",
      "Proccesing Record 580 | sao gabriel da cachoeira\n",
      "Proccesing Record 581 | san juan del cesar\n",
      "Proccesing Record 582 | correntina\n",
      "Proccesing Record 583 | new waterford\n",
      "Proccesing Record 584 | krasnoselkup\n",
      "Proccesing Record 585 | lucapa\n",
      "Proccesing Record 586 | palu\n",
      "Proccesing Record 587 | puerto madero\n",
      "Proccesing Record 588 | matay\n",
      "Proccesing Record 589 | ormara\n",
      "Proccesing Record 590 | armacao dos buzios\n",
      "City not Found. Skipping...\n",
      "Proccesing Record 591 | imeni poliny osipenko\n",
      "Proccesing Record 592 | ozgon\n",
      "City not Found. Skipping...\n",
      "Proccesing Record 593 | tomatlan\n",
      "Proccesing Record 594 | stavern\n",
      "Proccesing Record 595 | tocancipa\n",
      "Proccesing Record 596 | tarauaca\n",
      "Proccesing Record 597 | geresk\n",
      "City not Found. Skipping...\n",
      "Proccesing Record 598 | mahibadhoo\n",
      "Proccesing Record 599 | adre\n",
      "Proccesing Record 600 | burnie\n",
      "\n",
      "     ----------------------------------------\n",
      "     Data Retrieval Complete\n",
      "     ----------------------------------------\n",
      "     \n"
     ]
    }
   ],
   "source": [
    "print(f\"\"\"\n",
    "     Beginning Data Retrieval \n",
    "     --------------------------- \"\"\")\n",
    "for city in cities:\n",
    "    try:\n",
    "        record=record+1\n",
    "        response=requests.get(f\"{query_url}{city}\").json()\n",
    "        print(f\"Proccesing Record {record} | {city}\")\n",
    "        cloud.append(response[\"clouds\"][\"all\"])\n",
    "        country.append(response[\"sys\"][\"country\"])\n",
    "        date.append(response[\"dt\"])\n",
    "        humidity.append(response[\"main\"][\"humidity\"])\n",
    "        lat.append(response[\"coord\"][\"lat\"])\n",
    "        lng.append(response[\"coord\"][\"lon\"])\n",
    "        maxtemp.append(response[\"main\"][\"temp_max\"])\n",
    "        wind.append(response[\"wind\"][\"speed\"])\n",
    "        cities_new.append(city)\n",
    "    except:\n",
    "        print(f\"City not Found. Skipping...\")\n",
    "print(f\"\"\"\n",
    "     ----------------------------------------\n",
    "     Data Retrieval Complete\n",
    "     ----------------------------------------\n",
    "     \"\"\")"
   ]
  },
  {
   "cell_type": "markdown",
   "metadata": {},
   "source": [
    "### Convert Raw Data to DataFrame\n",
    "* Export the city data into a .csv.\n",
    "* Display the DataFrame"
   ]
  },
  {
   "cell_type": "code",
   "execution_count": 12,
   "metadata": {
    "scrolled": true
   },
   "outputs": [],
   "source": [
    "data_df=pd.DataFrame({\n",
    "    \"City\":cities_new,\n",
    "    \"Cloudiness\":cloud,\n",
    "    \"Country\":country,\n",
    "    \"Date\":date,\n",
    "    \"Humidity\":humidity,\n",
    "    \"Lat\":lat,\n",
    "    \"Lng\":lng,\n",
    "    \"Max Temp\":maxtemp,\n",
    "    \"Wind Speed\":wind\n",
    "})\n",
    "data_df.to_csv(output_data_file)"
   ]
  },
  {
   "cell_type": "code",
   "execution_count": 14,
   "metadata": {},
   "outputs": [
    {
     "data": {
      "text/html": [
       "<div>\n",
       "<style scoped>\n",
       "    .dataframe tbody tr th:only-of-type {\n",
       "        vertical-align: middle;\n",
       "    }\n",
       "\n",
       "    .dataframe tbody tr th {\n",
       "        vertical-align: top;\n",
       "    }\n",
       "\n",
       "    .dataframe thead th {\n",
       "        text-align: right;\n",
       "    }\n",
       "</style>\n",
       "<table border=\"1\" class=\"dataframe\">\n",
       "  <thead>\n",
       "    <tr style=\"text-align: right;\">\n",
       "      <th></th>\n",
       "      <th>City</th>\n",
       "      <th>Cloudiness</th>\n",
       "      <th>Country</th>\n",
       "      <th>Date</th>\n",
       "      <th>Humidity</th>\n",
       "      <th>Lat</th>\n",
       "      <th>Lng</th>\n",
       "      <th>Max Temp</th>\n",
       "      <th>Wind Speed</th>\n",
       "    </tr>\n",
       "  </thead>\n",
       "  <tbody>\n",
       "    <tr>\n",
       "      <th>0</th>\n",
       "      <td>kahului</td>\n",
       "      <td>20</td>\n",
       "      <td>US</td>\n",
       "      <td>1603729789</td>\n",
       "      <td>69</td>\n",
       "      <td>20.89</td>\n",
       "      <td>-156.47</td>\n",
       "      <td>23.00</td>\n",
       "      <td>2.89</td>\n",
       "    </tr>\n",
       "    <tr>\n",
       "      <th>1</th>\n",
       "      <td>charters towers</td>\n",
       "      <td>99</td>\n",
       "      <td>AU</td>\n",
       "      <td>1603729864</td>\n",
       "      <td>57</td>\n",
       "      <td>-20.10</td>\n",
       "      <td>146.27</td>\n",
       "      <td>25.10</td>\n",
       "      <td>3.18</td>\n",
       "    </tr>\n",
       "    <tr>\n",
       "      <th>2</th>\n",
       "      <td>kapaa</td>\n",
       "      <td>41</td>\n",
       "      <td>US</td>\n",
       "      <td>1603729749</td>\n",
       "      <td>73</td>\n",
       "      <td>22.08</td>\n",
       "      <td>-159.32</td>\n",
       "      <td>25.68</td>\n",
       "      <td>1.39</td>\n",
       "    </tr>\n",
       "    <tr>\n",
       "      <th>3</th>\n",
       "      <td>cabo san lucas</td>\n",
       "      <td>5</td>\n",
       "      <td>MX</td>\n",
       "      <td>1603729776</td>\n",
       "      <td>48</td>\n",
       "      <td>22.89</td>\n",
       "      <td>-109.91</td>\n",
       "      <td>29.44</td>\n",
       "      <td>1.50</td>\n",
       "    </tr>\n",
       "    <tr>\n",
       "      <th>4</th>\n",
       "      <td>vaini</td>\n",
       "      <td>20</td>\n",
       "      <td>TO</td>\n",
       "      <td>1603729736</td>\n",
       "      <td>94</td>\n",
       "      <td>-21.20</td>\n",
       "      <td>-175.20</td>\n",
       "      <td>22.00</td>\n",
       "      <td>3.60</td>\n",
       "    </tr>\n",
       "  </tbody>\n",
       "</table>\n",
       "</div>"
      ],
      "text/plain": [
       "              City  Cloudiness Country        Date  Humidity    Lat     Lng  \\\n",
       "0          kahului          20      US  1603729789        69  20.89 -156.47   \n",
       "1  charters towers          99      AU  1603729864        57 -20.10  146.27   \n",
       "2            kapaa          41      US  1603729749        73  22.08 -159.32   \n",
       "3   cabo san lucas           5      MX  1603729776        48  22.89 -109.91   \n",
       "4            vaini          20      TO  1603729736        94 -21.20 -175.20   \n",
       "\n",
       "   Max Temp  Wind Speed  \n",
       "0     23.00        2.89  \n",
       "1     25.10        3.18  \n",
       "2     25.68        1.39  \n",
       "3     29.44        1.50  \n",
       "4     22.00        3.60  "
      ]
     },
     "execution_count": 14,
     "metadata": {},
     "output_type": "execute_result"
    }
   ],
   "source": [
    "data_df.head()"
   ]
  },
  {
   "cell_type": "code",
   "execution_count": 18,
   "metadata": {
    "scrolled": true
   },
   "outputs": [
    {
     "data": {
      "text/plain": [
       "City          545\n",
       "Cloudiness    545\n",
       "Country       545\n",
       "Date          545\n",
       "Humidity      545\n",
       "Lat           545\n",
       "Lng           545\n",
       "Max Temp      545\n",
       "Wind Speed    545\n",
       "dtype: int64"
      ]
     },
     "execution_count": 18,
     "metadata": {},
     "output_type": "execute_result"
    }
   ],
   "source": [
    "data_df.count()"
   ]
  },
  {
   "cell_type": "markdown",
   "metadata": {},
   "source": [
    "### Plotting the Data\n",
    "* Use proper labeling of the plots using plot titles (including date of analysis) and axes labels.\n",
    "* Save the plotted figures as .pngs."
   ]
  },
  {
   "cell_type": "markdown",
   "metadata": {},
   "source": [
    "#### Latitude vs. Temperature Plot"
   ]
  },
  {
   "cell_type": "code",
   "execution_count": 65,
   "metadata": {},
   "outputs": [
    {
     "data": {
      "image/png": "[encoded data removed]",
      "text/plain": [
       "<Figure size 432x288 with 1 Axes>"
      ]
     },
     "metadata": {
      "needs_background": "light"
     },
     "output_type": "display_data"
    },
    {
     "data": {
      "text/plain": [
       "<Figure size 432x288 with 0 Axes>"
      ]
     },
     "metadata": {},
     "output_type": "display_data"
    }
   ],
   "source": [
    "data_df.plot(kind=\"scatter\",x=\"Lat\",y=\"Max Temp\",linewidths=1,edgecolors=\"black\")\n",
    "plt.title(\"City Latitude vs. Max Temperature\")\n",
    "plt.xlabel(\"Latitude\")\n",
    "plt.ylabel(\"Max Temperature (C)\")\n",
    "plt.grid()\n",
    "plt.show()\n",
    "plt.savefig(\"../output_data/LatitudeVSTemp.png\")"
   ]
  },
  {
   "cell_type": "markdown",
   "metadata": {},
   "source": [
    "#### Latitude vs. Humidity Plot"
   ]
  },
  {
   "cell_type": "code",
   "execution_count": 66,
   "metadata": {},
   "outputs": [
    {
     "data": {
      "image/png": "[encoded data removed]",
      "text/plain": [
       "<Figure size 432x288 with 1 Axes>"
      ]
     },
     "metadata": {
      "needs_background": "light"
     },
     "output_type": "display_data"
    },
    {
     "data": {
      "text/plain": [
       "<Figure size 432x288 with 0 Axes>"
      ]
     },
     "metadata": {},
     "output_type": "display_data"
    }
   ],
   "source": [
    "data_df.plot(kind=\"scatter\",x=\"Lat\",y=\"Humidity\",linewidths=1,edgecolors=\"black\")\n",
    "plt.title(\"City Latitude vs. Humidity %\")\n",
    "plt.xlabel(\"Latitude\")\n",
    "plt.ylabel(\"Humidity (%)\")\n",
    "plt.grid()\n",
    "plt.show()\n",
    "plt.savefig(\"../output_data/LatitudeVSHumidity.png\")"
   ]
  },
  {
   "cell_type": "markdown",
   "metadata": {},
   "source": [
    "#### Latitude vs. Cloudiness Plot"
   ]
  },
  {
   "cell_type": "code",
   "execution_count": 67,
   "metadata": {},
   "outputs": [
    {
     "data": {
      "image/png": "[encoded data removed]",
      "text/plain": [
       "<Figure size 432x288 with 1 Axes>"
      ]
     },
     "metadata": {
      "needs_background": "light"
     },
     "output_type": "display_data"
    },
    {
     "data": {
      "text/plain": [
       "<Figure size 432x288 with 0 Axes>"
      ]
     },
     "metadata": {},
     "output_type": "display_data"
    }
   ],
   "source": [
    "data_df.plot(kind=\"scatter\",x=\"Lat\",y=\"Cloudiness\",linewidths=1,edgecolors=\"black\")\n",
    "plt.title(\"City Latitude vs. Cloudiness\")\n",
    "plt.xlabel(\"Latitude\")\n",
    "plt.ylabel(\"Cloudiness (%)\")\n",
    "plt.grid()\n",
    "plt.show()\n",
    "plt.savefig(\"../output_data/LatitudeVSCloud.png\")"
   ]
  },
  {
   "cell_type": "markdown",
   "metadata": {},
   "source": [
    "#### Latitude vs. Wind Speed Plot"
   ]
  },
  {
   "cell_type": "code",
   "execution_count": 68,
   "metadata": {},
   "outputs": [
    {
     "data": {
      "image/png": "[encoded data removed]",
      "text/plain": [
       "<Figure size 432x288 with 1 Axes>"
      ]
     },
     "metadata": {
      "needs_background": "light"
     },
     "output_type": "display_data"
    },
    {
     "data": {
      "text/plain": [
       "<Figure size 432x288 with 0 Axes>"
      ]
     },
     "metadata": {},
     "output_type": "display_data"
    }
   ],
   "source": [
    "data_df.plot(kind=\"scatter\",x=\"Lat\",y=\"Wind Speed\",linewidths=1,edgecolors=\"black\")\n",
    "plt.title(\"City Latitude vs. Wind Speed\")\n",
    "plt.xlabel(\"Latitude\")\n",
    "plt.ylabel(\"Wind Speed (kph)\")\n",
    "plt.grid()\n",
    "plt.show()\n",
    "plt.savefig(\"../output_data/LatitudeVSWind.png\")"
   ]
  },
  {
   "cell_type": "markdown",
   "metadata": {},
   "source": [
    "## Linear Regression"
   ]
  },
  {
   "cell_type": "code",
   "execution_count": 72,
   "metadata": {},
   "outputs": [],
   "source": [
    "# OPTIONAL: Create a function to create Linear Regression plots\n",
    "def linear_regression(x,y,title,x_label,y_label):\n",
    "    from scipy.stats import linregress\n",
    "    (slope,intercept,rvalue,pvalue,stderr)=linregress(x,y)\n",
    "    regress_values=x*slope+intercept\n",
    "    line_eq=f\"y = x * {str(round(slope,2))} + {str(round(intercept,2))}\" \n",
    "    plt.scatter(x,y)\n",
    "    plt.plot(x,regress_values,\"r-\")\n",
    "    plt.annotate(line_eq,xycoords=\"axes points\",xy=(10,10),fontsize=18,color=\"red\")\n",
    "    print(f\"The r-squared is: {rvalue**2}\")\n",
    "    plt.title(title)\n",
    "    plt.xlabel(x_label)\n",
    "    plt.ylabel(y_label)\n",
    "    plt.show()"
   ]
  },
  {
   "cell_type": "code",
   "execution_count": 33,
   "metadata": {},
   "outputs": [],
   "source": [
    "# Create Northern and Southern Hemisphere DataFrames\n",
    "north_hem=data_df[data_df[\"Lat\"]>=0]"
   ]
  },
  {
   "cell_type": "code",
   "execution_count": 34,
   "metadata": {},
   "outputs": [],
   "source": [
    "south_hem=data_df[data_df[\"Lat\"]<=0]\n"
   ]
  },
  {
   "cell_type": "markdown",
   "metadata": {},
   "source": [
    "####  Northern Hemisphere - Max Temp vs. Latitude Linear Regression"
   ]
  },
  {
   "cell_type": "code",
   "execution_count": 73,
   "metadata": {
    "scrolled": true
   },
   "outputs": [
    {
     "name": "stdout",
     "output_type": "stream",
     "text": [
      "The r-squared is: 0.761511483329036\n"
     ]
    },
    {
     "data": {
      "image/png": "[encoded data removed]",
      "text/plain": [
       "<Figure size 432x288 with 1 Axes>"
      ]
     },
     "metadata": {
      "needs_background": "light"
     },
     "output_type": "display_data"
    },
    {
     "data": {
      "text/plain": [
       "<Figure size 432x288 with 0 Axes>"
      ]
     },
     "metadata": {},
     "output_type": "display_data"
    }
   ],
   "source": [
    "linear_regression(north_hem[\"Lat\"],north_hem[\"Max Temp\"],\"North Hemisphere - Max Temp vs. Latitude Linear Regression\",\"Latitude\",\"Max Temperature (C)\")\n",
    "plt.savefig(\"../output_data/North_LatitudeVSTemp.png\")"
   ]
  },
  {
   "cell_type": "markdown",
   "metadata": {},
   "source": [
    "## Analysis \n",
    "*There is a negative and strong relationship between the Max Temperature and the City Latitude, this confirms that at a Higher Latitude a LOWER temperature  "
   ]
  },
  {
   "cell_type": "markdown",
   "metadata": {},
   "source": [
    "####  Southern Hemisphere - Max Temp vs. Latitude Linear Regression"
   ]
  },
  {
   "cell_type": "code",
   "execution_count": 80,
   "metadata": {
    "scrolled": true
   },
   "outputs": [
    {
     "name": "stdout",
     "output_type": "stream",
     "text": [
      "The r-squared is: 0.5495168548860774\n"
     ]
    },
    {
     "data": {
      "image/png": "[encoded data removed]",
      "text/plain": [
       "<Figure size 432x288 with 1 Axes>"
      ]
     },
     "metadata": {
      "needs_background": "light"
     },
     "output_type": "display_data"
    },
    {
     "data": {
      "text/plain": [
       "<Figure size 432x288 with 0 Axes>"
      ]
     },
     "metadata": {},
     "output_type": "display_data"
    }
   ],
   "source": [
    "linear_regression(south_hem[\"Lat\"],south_hem[\"Max Temp\"],\"South Hemisphere - Max Temp vs. Latitude Linear Regression\",\"Latitude\",\"Max Temperature (C)\")\n",
    "plt.savefig(\"../output_data/South_LatitudeVSTemp.png\")"
   ]
  },
  {
   "cell_type": "markdown",
   "metadata": {},
   "source": [
    "## Analysis \n",
    "*There is a positive and weak relationship between the Max Temperature and the City Latitude in the South Hemisphere, this gives us an not conclusive idea that at a LOWER Latitude a LOWER temperature  "
   ]
  },
  {
   "cell_type": "markdown",
   "metadata": {},
   "source": [
    "####  Northern Hemisphere - Humidity (%) vs. Latitude Linear Regression"
   ]
  },
  {
   "cell_type": "code",
   "execution_count": 77,
   "metadata": {
    "scrolled": true
   },
   "outputs": [
    {
     "name": "stdout",
     "output_type": "stream",
     "text": [
      "The r-squared is: 0.10524735660643368\n"
     ]
    },
    {
     "data": {
      "image/png": "[encoded data removed]",
      "text/plain": [
       "<Figure size 432x288 with 1 Axes>"
      ]
     },
     "metadata": {
      "needs_background": "light"
     },
     "output_type": "display_data"
    },
    {
     "data": {
      "text/plain": [
       "<Figure size 432x288 with 0 Axes>"
      ]
     },
     "metadata": {},
     "output_type": "display_data"
    }
   ],
   "source": [
    "linear_regression(north_hem[\"Lat\"],north_hem[\"Humidity\"],\"North Hemisphere - Humidity vs. Latitude Linear Regression\",\"Latitude\",\"Humidity %\")\n",
    "plt.savefig(\"../output_data/North_LatitudeVSHumidity.png\")"
   ]
  },
  {
   "cell_type": "markdown",
   "metadata": {},
   "source": [
    "## Analysis \n",
    "*There is a very little relationship between the Humidity percentage and the latitude on the North Hemisphere. "
   ]
  },
  {
   "cell_type": "markdown",
   "metadata": {},
   "source": [
    "####  Southern Hemisphere - Humidity (%) vs. Latitude Linear Regression"
   ]
  },
  {
   "cell_type": "code",
   "execution_count": 82,
   "metadata": {
    "scrolled": true
   },
   "outputs": [
    {
     "name": "stdout",
     "output_type": "stream",
     "text": [
      "The r-squared is: 0.000789164990770455\n"
     ]
    },
    {
     "data": {
      "image/png": "[encoded data removed]",
      "text/plain": [
       "<Figure size 432x288 with 1 Axes>"
      ]
     },
     "metadata": {
      "needs_background": "light"
     },
     "output_type": "display_data"
    },
    {
     "data": {
      "text/plain": [
       "<Figure size 432x288 with 0 Axes>"
      ]
     },
     "metadata": {},
     "output_type": "display_data"
    }
   ],
   "source": [
    "linear_regression(south_hem[\"Lat\"],south_hem[\"Humidity\"],\"South Hemisphere - Humidity vs. Latitude Linear Regression\",\"Latitude\",\"Humidity %\")\n",
    "plt.savefig(\"../output_data/South_LatitudeVSHumidity.png\")"
   ]
  },
  {
   "cell_type": "markdown",
   "metadata": {},
   "source": [
    "## Analysis \n",
    "*There is no relationship between the Humidity percentage and the Latitude on cities on the South Hemisphere "
   ]
  },
  {
   "cell_type": "markdown",
   "metadata": {},
   "source": [
    "####  Northern Hemisphere - Cloudiness (%) vs. Latitude Linear Regression"
   ]
  },
  {
   "cell_type": "code",
   "execution_count": 78,
   "metadata": {
    "scrolled": true
   },
   "outputs": [
    {
     "name": "stdout",
     "output_type": "stream",
     "text": [
      "The r-squared is: 0.04329559947661469\n"
     ]
    },
    {
     "data": {
      "image/png": "[encoded data removed]",
      "text/plain": [
       "<Figure size 432x288 with 1 Axes>"
      ]
     },
     "metadata": {
      "needs_background": "light"
     },
     "output_type": "display_data"
    },
    {
     "data": {
      "text/plain": [
       "<Figure size 432x288 with 0 Axes>"
      ]
     },
     "metadata": {},
     "output_type": "display_data"
    }
   ],
   "source": [
    "linear_regression(north_hem[\"Lat\"],north_hem[\"Cloudiness\"],\"North Hemisphere - Cloudiness vs. Latitude Linear Regression\",\"Latitude\",\"Cloudiness %\")\n",
    "plt.savefig(\"../output_data/North_LatitudeVSCloudiness.png\")"
   ]
  },
  {
   "cell_type": "markdown",
   "metadata": {},
   "source": [
    "## Analysis \n",
    "*There is no relationship between the Cloudiness percentage and the Latitude of the Cities on the North Hemisphere"
   ]
  },
  {
   "cell_type": "markdown",
   "metadata": {},
   "source": [
    "####  Southern Hemisphere - Cloudiness (%) vs. Latitude Linear Regression"
   ]
  },
  {
   "cell_type": "code",
   "execution_count": 83,
   "metadata": {
    "scrolled": true
   },
   "outputs": [
    {
     "name": "stdout",
     "output_type": "stream",
     "text": [
      "The r-squared is: 0.0023537125857620153\n"
     ]
    },
    {
     "data": {
      "image/png": "[encoded data removed]",
      "text/plain": [
       "<Figure size 432x288 with 1 Axes>"
      ]
     },
     "metadata": {
      "needs_background": "light"
     },
     "output_type": "display_data"
    },
    {
     "data": {
      "text/plain": [
       "<Figure size 432x288 with 0 Axes>"
      ]
     },
     "metadata": {},
     "output_type": "display_data"
    }
   ],
   "source": [
    "linear_regression(south_hem[\"Lat\"],south_hem[\"Cloudiness\"],\"South Hemisphere - Cloudiness vs. Latitude Linear Regression\",\"Latitude\",\"Cloudiness %\")\n",
    "plt.savefig(\"../output_data/South_LatitudeVSCloudiness.png\")"
   ]
  },
  {
   "cell_type": "markdown",
   "metadata": {},
   "source": [
    "## Analysis \n",
    "*There is no relationship between the Cloudiness percentage and the Latitude of the Cities on the South Hemisphere"
   ]
  },
  {
   "cell_type": "markdown",
   "metadata": {},
   "source": [
    "####  Northern Hemisphere - Wind Speed (mph) vs. Latitude Linear Regression"
   ]
  },
  {
   "cell_type": "code",
   "execution_count": 79,
   "metadata": {
    "scrolled": true
   },
   "outputs": [
    {
     "name": "stdout",
     "output_type": "stream",
     "text": [
      "The r-squared is: 0.043298461239189616\n"
     ]
    },
    {
     "data": {
      "image/png": "[encoded data removed]",
      "text/plain": [
       "<Figure size 432x288 with 1 Axes>"
      ]
     },
     "metadata": {
      "needs_background": "light"
     },
     "output_type": "display_data"
    },
    {
     "data": {
      "text/plain": [
       "<Figure size 432x288 with 0 Axes>"
      ]
     },
     "metadata": {},
     "output_type": "display_data"
    }
   ],
   "source": [
    "linear_regression(north_hem[\"Lat\"],north_hem[\"Wind Speed\"],\"North Hemisphere - Wind Speed vs. Latitude Linear Regression\",\"Latitude\",\"Wind Speed kph\")\n",
    "plt.savefig(\"../output_data/North_LatitudeVSWind.png\")"
   ]
  },
  {
   "cell_type": "markdown",
   "metadata": {},
   "source": [
    "## Analysis \n",
    "*There is no relationship between the Wind Speed and the Latitude of the Cities on the North Hemisphere"
   ]
  },
  {
   "cell_type": "markdown",
   "metadata": {},
   "source": [
    "####  Southern Hemisphere - Wind Speed (mph) vs. Latitude Linear Regression"
   ]
  },
  {
   "cell_type": "code",
   "execution_count": 84,
   "metadata": {
    "scrolled": true
   },
   "outputs": [
    {
     "name": "stdout",
     "output_type": "stream",
     "text": [
      "The r-squared is: 0.11825783759080309\n"
     ]
    },
    {
     "data": {
      "image/png": "[encoded data removed]",
      "text/plain": [
       "<Figure size 432x288 with 1 Axes>"
      ]
     },
     "metadata": {
      "needs_background": "light"
     },
     "output_type": "display_data"
    },
    {
     "data": {
      "text/plain": [
       "<Figure size 432x288 with 0 Axes>"
      ]
     },
     "metadata": {},
     "output_type": "display_data"
    }
   ],
   "source": [
    "linear_regression(south_hem[\"Lat\"],south_hem[\"Wind Speed\"],\"South Hemisphere - Wind Speed vs. Latitude Linear Regression\",\"Latitude\",\"Wind Speed kph\")\n",
    "plt.savefig(\"../output_data/South_LatitudeVSWind.png\")"
   ]
  },
  {
   "cell_type": "markdown",
   "metadata": {},
   "source": [
    "## Analysis \n",
    "*There is a very weak relationship between the Wind Speed and the Latitude of the Cities on the South Hemisphere"
   ]
  },
  {
   "cell_type": "code",
   "execution_count": null,
   "metadata": {},
   "outputs": [],
   "source": []
  }
 ],
 "metadata": {
  "anaconda-cloud": {},
  "kernel_info": {
   "name": "python3"
  },
  "kernelspec": {
   "display_name": "Python 3",
   "language": "python",
   "name": "python3"
  },
  "language_info": {
   "codemirror_mode": {
    "name": "ipython",
    "version": 3
   },
   "file_extension": ".py",
   "mimetype": "text/x-python",
   "name": "python",
   "nbconvert_exporter": "python",
   "pygments_lexer": "ipython3",
   "version": "3.8.3"
  },
  "latex_envs": {
   "LaTeX_envs_menu_present": true,
   "autoclose": false,
   "autocomplete": true,
   "bibliofile": "biblio.bib",
   "cite_by": "apalike",
   "current_citInitial": 1,
   "eqLabelWithNumbers": true,
   "eqNumInitial": 1,
   "hotkeys": {
    "equation": "Ctrl-E",
    "itemize": "Ctrl-I"
   },
   "labels_anchors": false,
   "latex_user_defs": false,
   "report_style_numbering": false,
   "user_envs_cfg": false
  },
  "nteract": {
   "version": "0.12.3"
  }
 },
 "nbformat": 4,
 "nbformat_minor": 2
}
